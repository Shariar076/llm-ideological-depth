{
 "cells": [
  {
   "cell_type": "markdown",
   "id": "e4e87740",
   "metadata": {},
   "source": [
    "## Prerequisits"
   ]
  },
  {
   "cell_type": "code",
   "execution_count": 1,
   "id": "3a4812a8",
   "metadata": {},
   "outputs": [],
   "source": [
    "import os\n",
    "import json\n",
    "import pandas as pd\n",
    "import matplotlib.pyplot as plt\n",
    "from scipy.stats import pearsonr\n",
    "import numpy as np\n",
    "# from scipy.sparse import csr_matrix\n",
    "\n",
    "# import warnings\n",
    "# warnings.filterwarnings('ignore')"
   ]
  },
  {
   "cell_type": "markdown",
   "id": "57af0a88",
   "metadata": {},
   "source": [
    "### Rollcalls data"
   ]
  },
  {
   "cell_type": "code",
   "execution_count": null,
   "id": "f8a1e7f3",
   "metadata": {},
   "outputs": [],
   "source": [
    "members = pd.read_csv('irt_files/S109_members.csv')\n",
    "votes = pd.read_csv('irt_files/S109_votes.csv')\n",
    "rollcalls = pd.read_csv('irt_files/S109_rollcalls.csv')\n",
    "\n",
    "print(f\"Loaded {len(votes)} votes, {len(members)} members, {len(rollcalls)} roll calls\")"
   ]
  },
  {
   "cell_type": "code",
   "execution_count": null,
   "id": "9e47d49a",
   "metadata": {},
   "outputs": [],
   "source": [
    "\"\"\"\n",
    "Preprocess the data to create vote matrix and metadata\n",
    "\n",
    "IRT CONNECTION: This creates the response matrix where:\n",
    "- Rows = respondents (legislators, analogous to students in educational IRT)\n",
    "- Columns = items (roll call votes, analogous to test questions in educational IRT)\n",
    "- Values = binary responses (1=Yea/correct, 0=Nay/incorrect)\n",
    "\"\"\"\n",
    "\n",
    "# Filter for Senate only (chamber == 'Senate')\n",
    "# votes_senate = votes[votes['chamber'] == 'Senate'].copy()\n",
    "# members_senate = members[members['chamber'] == 'Senate'].copy()\n",
    "# rollcalls_senate = rollcalls[rollcalls['chamber'] == 'Senate'].copy()\n",
    "votes_senate = votes.copy()\n",
    "members_senate = members.copy()\n",
    "rollcalls_senate = rollcalls.copy()\n",
    "\n",
    "# Create mapping dictionaries\n",
    "member_to_idx = {icpsr: idx for idx, icpsr in enumerate(sorted(members_senate['icpsr'].unique()))}\n",
    "rollcall_to_idx = {roll: idx for idx, roll in enumerate(sorted(rollcalls_senate['rollnumber'].unique()))}\n",
    "\n",
    "# Create reverse mappings\n",
    "idx_to_member = {idx: icpsr for icpsr, idx in member_to_idx.items()}\n",
    "idx_to_rollcall = {idx: roll for roll, idx in rollcall_to_idx.items()}\n",
    "\n",
    "n_members = len(member_to_idx)\n",
    "n_rollcalls = len(rollcall_to_idx)\n",
    "\n",
    "print(f\"Matrix dimensions: {n_members} members x {n_rollcalls} roll calls\")\n",
    "\n",
    "# Initialize vote matrix with NaN (missing votes)\n",
    "# IRT CONNECTION: This is the classic IRT response matrix R[person, item]\n",
    "vote_matrix = np.full((n_members, n_rollcalls), np.nan)\n",
    "\n",
    "# Fill in the vote matrix\n",
    "# Cast codes: 1,2,3 = Yea, 4,5,6 = Nay, 7,8,9 = Not voting/Present\n",
    "for _, row in votes_senate.iterrows():\n",
    "    if row['icpsr'] in member_to_idx and row['rollnumber'] in rollcall_to_idx:\n",
    "        member_idx = member_to_idx[row['icpsr']]\n",
    "        roll_idx = rollcall_to_idx[row['rollnumber']]\n",
    "        \n",
    "        # Convert cast codes to binary votes\n",
    "        # IRT CONNECTION: Converting to binary responses (0/1) like correct/incorrect in educational testing\n",
    "        if row[f'cast_code'] in [1, 2, 3]:  # Yea votes\n",
    "            vote_matrix[member_idx, roll_idx] = 1\n",
    "        elif row[f'cast_code'] in [4, 5, 6]:  # Nay votes\n",
    "            vote_matrix[member_idx, roll_idx] = 0\n",
    "        \n",
    "\n",
    "# print(vote_matrix)\n",
    "\n",
    "# Create member info dataframe with proper ordering\n",
    "member_info = []\n",
    "for idx in range(n_members):\n",
    "    icpsr = idx_to_member[idx]\n",
    "    member_row = members_senate[members_senate['icpsr'] == icpsr].iloc[0]\n",
    "    member_info.append({\n",
    "        'idx': idx,\n",
    "        'icpsr': icpsr,\n",
    "        'bioname': member_row['bioname'],\n",
    "        'state_abbrev': member_row['state_abbrev'],\n",
    "        'party_code': member_row['party_code'],\n",
    "        'nominate_dim_1': member_row['nominate_dim1'],\n",
    "        'nominate_dim_2': member_row['nominate_dim2']\n",
    "    })\n",
    "\n",
    "member_info_df = pd.DataFrame(member_info)\n",
    "# print(member_info_df)\n",
    "\n",
    "# Convert party codes to letters (100=D, 200=R, others=I)\n",
    "party_map = {100: 'D', 200: 'R', 328: 'I'}\n",
    "member_info_df['party'] = member_info_df['party_code'].map(party_map).fillna('U')\n",
    "\n",
    "# Remove roll calls with too few votes or unanimous votes\n",
    "# IRT CONNECTION: Similar to removing items that are too easy/hard or have no discrimination\n",
    "valid_rollcalls = []\n",
    "valid_vote_matrix = []\n",
    "\n",
    "for roll_idx in range(n_rollcalls):\n",
    "    votes_col = vote_matrix[:, roll_idx]\n",
    "    valid_votes = votes_col[~np.isnan(votes_col)]\n",
    "    \n",
    "    if len(valid_votes) >= 2:  # At least 10 votes\n",
    "        yea_count = np.sum(valid_votes == 1)\n",
    "        nay_count = np.sum(valid_votes == 0)\n",
    "        \n",
    "        # Skip unanimous votes (no discrimination power, like items everyone gets right/wrong)\n",
    "        if yea_count > 0 and nay_count > 0:\n",
    "            valid_rollcalls.append(roll_idx)\n",
    "            valid_vote_matrix.append(votes_col)\n",
    "\n",
    "vote_matrix_clean = np.column_stack(valid_vote_matrix)\n",
    "\n",
    "print(f\"After filtering: {vote_matrix_clean.shape[0]} members x {vote_matrix_clean.shape[1]} roll calls\")\n",
    "\n",
    "vote_matrix = vote_matrix_clean\n",
    "\n",
    "pd.DataFrame(vote_matrix).to_csv(\"irt_files/rollcalls_vote_matrix.csv\", index=False)"
   ]
  },
  {
   "cell_type": "code",
   "execution_count": null,
   "id": "1e8d6287",
   "metadata": {},
   "outputs": [],
   "source": [
    "member_info_df['members_abbv'] = member_info_df.apply(lambda row: f\"{row['bioname'].split(', ')[0]} ({row['party']} {row['state_abbrev']})\", axis=1)\n",
    "\n",
    "R_manual_df = pd.read_csv(\"irt_files/ideal_points_R_manual_files.csv\")\n",
    "R_manual_df.columns =['members_abbv','ideal_dim_1', 'ideal_dim_2']\n",
    "merged_df_2 = member_info_df.join(R_manual_df.set_index('members_abbv'), on='members_abbv', how='inner')\n",
    "corr_dim1, p_value_dim1 = pearsonr(merged_df_2['nominate_dim_1'], merged_df_2['ideal_dim_1'])\n",
    "corr_dim2, p_value_dim2 = pearsonr(merged_df_2['nominate_dim_2'], merged_df_2['ideal_dim_2'])\n",
    "print(\"IDEAL-R Manual v DW Nominate Correlation:\")\n",
    "print(\"Dimension 1:\")\n",
    "print(f\"Correlation: {corr_dim1:.6f}\")\n",
    "print(f\"P-value: {p_value_dim1:.6f}\")\n",
    "\n",
    "print(\"Dimension 2:\")\n",
    "print(f\"Correlation: {corr_dim2:.6f}\")\n",
    "print(f\"P-value: {p_value_dim2:.6f}\\n\\n\")\n",
    "\n",
    "R_manual_df = pd.read_csv(\"irt_files/ideal_points_R_preloaded_files.csv\")\n",
    "R_manual_df.columns =['members_abbv','ideal_dim_1', 'ideal_dim_2']\n",
    "merged_df_3 = member_info_df.join(R_manual_df.set_index('members_abbv'), on='members_abbv', how='inner')\n",
    "corr_dim1, p_value_dim1 = pearsonr(merged_df_3['nominate_dim_1'], merged_df_3['ideal_dim_1'])\n",
    "corr_dim2, p_value_dim2 = pearsonr(merged_df_3['nominate_dim_2'], merged_df_3['ideal_dim_2'])\n",
    "print(\"IDEAL-R Builtin v DW Nominate Correlation:\")\n",
    "print(\"Dimension 1:\")\n",
    "print(f\"Correlation: {corr_dim1:.6f}\")\n",
    "print(f\"P-value: {p_value_dim1:.6f}\")\n",
    "\n",
    "print(\"Dimension 2:\")\n",
    "print(f\"Correlation: {corr_dim2:.6f}\")\n",
    "print(f\"P-value: {p_value_dim2:.6f}\\n\\n\")"
   ]
  },
  {
   "cell_type": "markdown",
   "id": "328e596f",
   "metadata": {},
   "source": [
    "### LLM Response data"
   ]
  },
  {
   "cell_type": "code",
   "execution_count": 55,
   "id": "41a70359",
   "metadata": {},
   "outputs": [
    {
     "name": "stdout",
     "output_type": "stream",
     "text": [
      "q_id                                   0\n",
      "steering_caa_argument_none            49\n",
      "steering_sta_argument_none            18\n",
      "steering_caa_argument_liberal          0\n",
      "steering_sta_argument_liberal          0\n",
      "steering_caa_argument_conservative     0\n",
      "steering_sta_argument_conservative     0\n",
      "category                               0\n",
      "dtype: int64\n",
      "q_id                                   0\n",
      "steering_caa_argument_none            49\n",
      "steering_sta_argument_none            18\n",
      "steering_caa_argument_liberal          0\n",
      "steering_sta_argument_liberal          0\n",
      "steering_caa_argument_conservative     0\n",
      "steering_sta_argument_conservative     0\n",
      "category                               0\n",
      "dtype: int64\n"
     ]
    }
   ],
   "source": [
    "model_name = \"llama-3.1-8b-it\"\n",
    "# model_name = \"gemma-2-9b-it\"\n",
    "\n",
    "# Prompting\n",
    "# votes = pd.read_csv(f\"analysis/{model_name}_votes.csv\")\n",
    "# print(votes.isna().sum())\n",
    "# response_cols = [col for col in votes.columns if col not in ['category', 'q_id']]\n",
    "# votes = votes[response_cols].T\n",
    "\n",
    "# Steering \n",
    "votes_1 = pd.read_csv(f\"analysis/{model_name}_conservative_steering_131K_votes.csv\")\n",
    "print(votes_1.isna().sum())\n",
    "votes_2 = pd.read_csv(f\"analysis/{model_name}_liberal_steering_131K_votes.csv\")\n",
    "print(votes_2.isna().sum())\n",
    "response_cols = [col for col in votes_1.columns if col not in ['category', 'q_id']]\n",
    "votes_1 = votes_1[response_cols].rename(columns={col: f\"-ve_{col[9:]}\" for col in response_cols})\n",
    "votes_2 = votes_2[response_cols].rename(columns={col: f\"+ve_{col[9:]}\" for col in response_cols})\n",
    "votes = pd.concat([votes_1.T, votes_2.T])\n",
    "\n",
    "vote_matrix = votes.values\n",
    "member_info_df = pd.DataFrame({'idx': list(range(len(votes))),\n",
    "                   'bioname': votes.index,\n",
    "                   'party': ['U']*len(votes)})"
   ]
  },
  {
   "cell_type": "markdown",
   "id": "7c0c73b0",
   "metadata": {},
   "source": [
    "## Check inputs"
   ]
  },
  {
   "cell_type": "code",
   "execution_count": 56,
   "id": "f16fe960",
   "metadata": {},
   "outputs": [
    {
     "name": "stdout",
     "output_type": "stream",
     "text": [
      "(12, 126)\n"
     ]
    },
    {
     "data": {
      "text/html": [
       "<div>\n",
       "<style scoped>\n",
       "    .dataframe tbody tr th:only-of-type {\n",
       "        vertical-align: middle;\n",
       "    }\n",
       "\n",
       "    .dataframe tbody tr th {\n",
       "        vertical-align: top;\n",
       "    }\n",
       "\n",
       "    .dataframe thead th {\n",
       "        text-align: right;\n",
       "    }\n",
       "</style>\n",
       "<table border=\"1\" class=\"dataframe\">\n",
       "  <thead>\n",
       "    <tr style=\"text-align: right;\">\n",
       "      <th></th>\n",
       "      <th>idx</th>\n",
       "      <th>bioname</th>\n",
       "      <th>party</th>\n",
       "    </tr>\n",
       "  </thead>\n",
       "  <tbody>\n",
       "    <tr>\n",
       "      <th>0</th>\n",
       "      <td>0</td>\n",
       "      <td>-ve_caa_argument_none</td>\n",
       "      <td>U</td>\n",
       "    </tr>\n",
       "    <tr>\n",
       "      <th>1</th>\n",
       "      <td>1</td>\n",
       "      <td>-ve_sta_argument_none</td>\n",
       "      <td>U</td>\n",
       "    </tr>\n",
       "    <tr>\n",
       "      <th>2</th>\n",
       "      <td>2</td>\n",
       "      <td>-ve_caa_argument_liberal</td>\n",
       "      <td>U</td>\n",
       "    </tr>\n",
       "    <tr>\n",
       "      <th>3</th>\n",
       "      <td>3</td>\n",
       "      <td>-ve_sta_argument_liberal</td>\n",
       "      <td>U</td>\n",
       "    </tr>\n",
       "    <tr>\n",
       "      <th>4</th>\n",
       "      <td>4</td>\n",
       "      <td>-ve_caa_argument_conservative</td>\n",
       "      <td>U</td>\n",
       "    </tr>\n",
       "    <tr>\n",
       "      <th>5</th>\n",
       "      <td>5</td>\n",
       "      <td>-ve_sta_argument_conservative</td>\n",
       "      <td>U</td>\n",
       "    </tr>\n",
       "    <tr>\n",
       "      <th>6</th>\n",
       "      <td>6</td>\n",
       "      <td>+ve_caa_argument_none</td>\n",
       "      <td>U</td>\n",
       "    </tr>\n",
       "    <tr>\n",
       "      <th>7</th>\n",
       "      <td>7</td>\n",
       "      <td>+ve_sta_argument_none</td>\n",
       "      <td>U</td>\n",
       "    </tr>\n",
       "    <tr>\n",
       "      <th>8</th>\n",
       "      <td>8</td>\n",
       "      <td>+ve_caa_argument_liberal</td>\n",
       "      <td>U</td>\n",
       "    </tr>\n",
       "    <tr>\n",
       "      <th>9</th>\n",
       "      <td>9</td>\n",
       "      <td>+ve_sta_argument_liberal</td>\n",
       "      <td>U</td>\n",
       "    </tr>\n",
       "    <tr>\n",
       "      <th>10</th>\n",
       "      <td>10</td>\n",
       "      <td>+ve_caa_argument_conservative</td>\n",
       "      <td>U</td>\n",
       "    </tr>\n",
       "    <tr>\n",
       "      <th>11</th>\n",
       "      <td>11</td>\n",
       "      <td>+ve_sta_argument_conservative</td>\n",
       "      <td>U</td>\n",
       "    </tr>\n",
       "  </tbody>\n",
       "</table>\n",
       "</div>"
      ],
      "text/plain": [
       "    idx                        bioname party\n",
       "0     0          -ve_caa_argument_none     U\n",
       "1     1          -ve_sta_argument_none     U\n",
       "2     2       -ve_caa_argument_liberal     U\n",
       "3     3       -ve_sta_argument_liberal     U\n",
       "4     4  -ve_caa_argument_conservative     U\n",
       "5     5  -ve_sta_argument_conservative     U\n",
       "6     6          +ve_caa_argument_none     U\n",
       "7     7          +ve_sta_argument_none     U\n",
       "8     8       +ve_caa_argument_liberal     U\n",
       "9     9       +ve_sta_argument_liberal     U\n",
       "10   10  +ve_caa_argument_conservative     U\n",
       "11   11  +ve_sta_argument_conservative     U"
      ]
     },
     "execution_count": 56,
     "metadata": {},
     "output_type": "execute_result"
    }
   ],
   "source": [
    "# most liberal: +ve_sta_argument_none:7\n",
    "# most conservative:-ve_caa_argument_none:0\n",
    "\n",
    "\n",
    "print(vote_matrix.shape)\n",
    "member_info_df"
   ]
  },
  {
   "cell_type": "code",
   "execution_count": 57,
   "id": "ca7b68ce",
   "metadata": {},
   "outputs": [
    {
     "name": "stdout",
     "output_type": "stream",
     "text": [
      "Fitting 2D ideal point model...\n",
      "n_members: 12\n",
      "n_rollcalls: 126\n",
      "n_observations: 1378\n",
      "Rollcalls per dimension: [53 73]\n"
     ]
    }
   ],
   "source": [
    "n_dims=2\n",
    "\n",
    "n_members, n_rollcalls = vote_matrix.shape\n",
    "\n",
    "# Create masks for observed votes\n",
    "observed_mask = ~np.isnan(vote_matrix)\n",
    "\n",
    "# Convert to binary format for observed votes only\n",
    "vote_obs = vote_matrix[observed_mask].astype(int)\n",
    "\n",
    "# Get indices for observed votes\n",
    "member_idx, rollcall_idx = np.where(observed_mask)\n",
    "\n",
    "\n",
    "# Assign each rollcall to a dimension (random assignment)\n",
    "np.random.seed(42)  # for reproducibility\n",
    "rollcall_to_dim = np.random.randint(0, n_dims, size=n_rollcalls)\n",
    "\n",
    "# Create dimension index for each observation\n",
    "dimension_idx = rollcall_to_dim[rollcall_idx]\n",
    "\n",
    "print(f\"Fitting {n_dims}D ideal point model...\")\n",
    "print(\"n_members:\", n_members)\n",
    "print(\"n_rollcalls:\", n_rollcalls)\n",
    "print(\"n_observations:\", len(vote_obs))\n",
    "print(\"Rollcalls per dimension:\", np.bincount(rollcall_to_dim))"
   ]
  },
  {
   "cell_type": "markdown",
   "id": "e2e2f4ea",
   "metadata": {},
   "source": [
    "## IRT Using Stan\n",
    "***"
   ]
  },
  {
   "cell_type": "code",
   "execution_count": 58,
   "id": "be1cd2ab",
   "metadata": {},
   "outputs": [
    {
     "data": {
      "text/plain": [
       "{'J': 12,\n",
       " 'K': 126,\n",
       " 'N': 1378,\n",
       " 'D': 2,\n",
       " 'jj': array([ 1,  1,  1, ..., 12, 12, 12]),\n",
       " 'kk': array([  5,   6,   8, ..., 124, 125, 126]),\n",
       " 'y': array([1, 0, 0, ..., 0, 1, 0]),\n",
       " 'ref_j1': 10,\n",
       " 'ref_j2': 6,\n",
       " 'ref_j3': 3}"
      ]
     },
     "execution_count": 58,
     "metadata": {},
     "output_type": "execute_result"
    }
   ],
   "source": [
    "# Create Stan data dictionary\n",
    "stan_data = {\n",
    "    'J': n_members,\n",
    "    'K': n_rollcalls, \n",
    "    'N': len(vote_obs),\n",
    "    'D': n_dims,\n",
    "    'jj': member_idx+1, # starting idx 1\n",
    "    'kk': rollcall_idx+1, # starting idx 1\n",
    "    'y': vote_obs,\n",
    "    #-------------------------------- Fix extreme Legislators --------------------------------#\n",
    "    # 'ref_j1': 3 + 1, # role_liberal_argument_liberal\n",
    "    # 'ref_j2': 8 + 1, # role_conservative_argument_conservative\n",
    "    # 'ref_j3': 7 + 1, # role_liberal_argument_conservative\n",
    "    \n",
    "    'ref_j1': 9 + 1, # +ve_sta_argument_liberal\n",
    "    'ref_j2': 5 + 1, # -ve_sta_argument_conservative\n",
    "    'ref_j3': 2 + 1, # -ve_sta_argument_liberal\n",
    "    #-------------------------------- Fix extreme Legislators --------------------------------#\n",
    "}\n",
    "\n",
    "# import numpy as np\n",
    "\n",
    "# # Choose 3 legislators to fix (you can pick based on domain knowledge)\n",
    "# # For example, most liberal, most conservative, and someone in between\n",
    "# fixed_legislators = [0, 1, 2]  # indices in your data (0-based)\n",
    "\n",
    "# # Define their positions in 2D space\n",
    "# # Common approach: place them at corners of a triangle\n",
    "# fixed_positions = np.array([\n",
    "#     [-1.0, -1.0],  # bottom-left\n",
    "#     [ 1.0, -1.0],  # bottom-right  \n",
    "#     [ 0.0,  1.0]   # top-center\n",
    "# ])\n",
    "\n",
    "# stan_data = {\n",
    "#     'J': n_members,\n",
    "#     'K': n_rollcalls, \n",
    "#     'N': len(vote_obs),\n",
    "#     'D': n_dims,\n",
    "#     'jj': member_idx+1,\n",
    "#     'kk': rollcall_idx+1,\n",
    "#     'y': vote_obs,\n",
    "#     'n_fixed': 3,\n",
    "#     'fixed_legs': [x+1 for x in fixed_legislators],  # convert to 1-based indexing\n",
    "#     'fixed_pos': fixed_positions\n",
    "# }\n",
    "stan_data"
   ]
  },
  {
   "cell_type": "code",
   "execution_count": 59,
   "id": "0a25ba20",
   "metadata": {},
   "outputs": [],
   "source": [
    "import arviz as az\n",
    "from cmdstanpy import CmdStanModel\n",
    "\n",
    "stan_file = os.path.join('irt_files/MIRT_ref.stan')\n",
    "model = CmdStanModel(stan_file=stan_file)\n",
    "# print(model)\n",
    "# print(json.dumps(model.exe_info(), indent=4))"
   ]
  },
  {
   "cell_type": "code",
   "execution_count": 60,
   "id": "ad5de86b",
   "metadata": {},
   "outputs": [
    {
     "name": "stderr",
     "output_type": "stream",
     "text": [
      "03:16:20 - cmdstanpy - INFO - CmdStan start processing\n"
     ]
    },
    {
     "data": {
      "application/vnd.jupyter.widget-view+json": {
       "model_id": "4e4ab62e73e44a03ac46815ed96eb246",
       "version_major": 2,
       "version_minor": 0
      },
      "text/plain": [
       "chain 1 |          | 00:00 Status"
      ]
     },
     "metadata": {},
     "output_type": "display_data"
    },
    {
     "data": {
      "application/vnd.jupyter.widget-view+json": {
       "model_id": "3f08aba5ede44b1b95dbc156f99de4dd",
       "version_major": 2,
       "version_minor": 0
      },
      "text/plain": [
       "chain 2 |          | 00:00 Status"
      ]
     },
     "metadata": {},
     "output_type": "display_data"
    },
    {
     "data": {
      "application/vnd.jupyter.widget-view+json": {
       "model_id": "8fa8921299074c3b953d1277f9898318",
       "version_major": 2,
       "version_minor": 0
      },
      "text/plain": [
       "chain 3 |          | 00:00 Status"
      ]
     },
     "metadata": {},
     "output_type": "display_data"
    },
    {
     "data": {
      "application/vnd.jupyter.widget-view+json": {
       "model_id": "e8bd4abfa67849c2986fbf9b239242d3",
       "version_major": 2,
       "version_minor": 0
      },
      "text/plain": [
       "chain 4 |          | 00:00 Status"
      ]
     },
     "metadata": {},
     "output_type": "display_data"
    },
    {
     "name": "stdout",
     "output_type": "stream",
     "text": [
      "                                                                                                                                                                                                                                                                                                                                "
     ]
    },
    {
     "name": "stderr",
     "output_type": "stream",
     "text": [
      "03:16:45 - cmdstanpy - INFO - CmdStan done processing.\n",
      "03:16:45 - cmdstanpy - WARNING - Non-fatal error during sampling:\n",
      "Exception: lkj_corr_lpdf: Correlation matrix is not positive definite. (in 'MIRT_ref.stan', line 64, column 2 to column 29)\n",
      "Exception: lkj_corr_lpdf: Correlation matrix is not positive definite. (in 'MIRT_ref.stan', line 64, column 2 to column 29)\n",
      "\tException: multi_normal_lpdf: LDLT_Factor of covariance parameter is not positive definite.  last conditional variance is 0. (in 'MIRT_ref.stan', line 80, column 4 to column 81)\n",
      "Exception: multi_normal_lpdf: LDLT_Factor of covariance parameter is not positive definite.  last conditional variance is 0. (in 'MIRT_ref.stan', line 80, column 4 to column 81)\n",
      "\tException: multi_normal_lpdf: LDLT_Factor of covariance parameter is not positive definite.  last conditional variance is 0. (in 'MIRT_ref.stan', line 80, column 4 to column 81)\n",
      "\tException: lkj_corr_lpdf: Correlation matrix is not positive definite. (in 'MIRT_ref.stan', line 64, column 2 to column 29)\n",
      "Exception: lkj_corr_lpdf: Correlation matrix is not positive definite. (in 'MIRT_ref.stan', line 64, column 2 to column 29)\n",
      "\tException: lkj_corr_lpdf: Correlation matrix is not positive definite. (in 'MIRT_ref.stan', line 64, column 2 to column 29)\n",
      "\tException: lkj_corr_lpdf: Correlation matrix is not positive definite. (in 'MIRT_ref.stan', line 64, column 2 to column 29)\n",
      "Consider re-running with show_console=True if the above output is unclear!\n"
     ]
    },
    {
     "name": "stdout",
     "output_type": "stream",
     "text": [
      "\n"
     ]
    }
   ],
   "source": [
    "n_samples=500\n",
    "n_tune=500\n",
    "\n",
    "fit = model.sample(\n",
    "    data=stan_data, chains=4, \n",
    "    iter_sampling=n_samples, \n",
    "    iter_warmup=n_tune,\n",
    "    # show_console=True\n",
    ")"
   ]
  },
  {
   "cell_type": "code",
   "execution_count": 61,
   "id": "b163cc84",
   "metadata": {},
   "outputs": [
    {
     "data": {
      "text/plain": [
       "'analysis/inference_datallama-3.1-8b-it_steering.nc'"
      ]
     },
     "execution_count": 61,
     "metadata": {},
     "output_type": "execute_result"
    }
   ],
   "source": [
    "inference_data = az.from_cmdstanpy(fit)\n",
    "inference_data\n",
    "inference_data.to_netcdf(f\"analysis/inference_data{model_name}_steering.nc\")"
   ]
  },
  {
   "cell_type": "markdown",
   "id": "e6783a42",
   "metadata": {},
   "source": [
    "### Diagnosis"
   ]
  },
  {
   "cell_type": "code",
   "execution_count": null,
   "id": "f4c0561f",
   "metadata": {},
   "outputs": [],
   "source": [
    "print(fit.diagnose())"
   ]
  },
  {
   "cell_type": "code",
   "execution_count": null,
   "id": "7340d317",
   "metadata": {},
   "outputs": [],
   "source": [
    "# import matplotlib.cm as cm\n",
    "\n",
    "# n_chains = len(inference_data.posterior.chain)\n",
    "# n_vars = len(inference_data.posterior.data_vars)\n",
    "# print(f\"Number of parameter variables: {n_vars}\")\n",
    "\n",
    "# # cmap = cm.get_cmap('ocean')  # or 'plasma', 'tab10', etc.\n",
    "# # colors = [cmap(i / (n_chains - 1)) for i in range(n_chains)]\n",
    "\n",
    "# az.plot_trace(inference_data, figsize=(20, 2*n_vars), legend=False) #chain_prop={'color': colors},\n",
    "# plt.tight_layout()\n",
    "# plt.show()"
   ]
  },
  {
   "cell_type": "markdown",
   "id": "f5b63177",
   "metadata": {},
   "source": [
    "### IDEAL Points"
   ]
  },
  {
   "cell_type": "code",
   "execution_count": 62,
   "id": "60a3c268",
   "metadata": {},
   "outputs": [
    {
     "name": "stdout",
     "output_type": "stream",
     "text": [
      "\n",
      "Ideal points shape: (12, 2)\n",
      "Ideal_points_sample:\n",
      "[[-2.17338944  0.22371291]\n",
      " [-3.92304415 -0.66707317]\n",
      " [ 0.          2.        ]\n",
      " [-1.84875827  0.97054672]\n",
      " [ 3.4679767   1.581983  ]]\n",
      "Dimension 1 range: [-3.923, 3.478]\n",
      "Dimension 2 range: [-3.533, 2.000]\n"
     ]
    }
   ],
   "source": [
    "\"\"\"\n",
    "Extract mean ideal points from trace\n",
    "\n",
    "IRT CONNECTION: These are the estimated person parameters (abilities/traits)\n",
    "In educational IRT: student ability estimates\n",
    "In political IRT: legislator ideological position estimates\n",
    "\"\"\"\n",
    "# inference_data = az.from_netcdf(f\"analysis/inference_data{model_name}_steering.nc\")\n",
    "\n",
    "ideal_points_samples = inference_data.posterior['theta'].values\n",
    "# Average across chains and samples to get point estimates\n",
    "ideal_points = np.mean(ideal_points_samples, axis=(0, 1))\n",
    "\n",
    "# Print some diagnostics\n",
    "print(f\"\\nIdeal points shape: {ideal_points.shape}\")\n",
    "print(\"Ideal_points_sample:\")\n",
    "print(ideal_points[:5])\n",
    "print(f\"Dimension 1 range: [{ideal_points[:, 0].min():.3f}, {ideal_points[:, 0].max():.3f}]\")\n",
    "print(f\"Dimension 2 range: [{ideal_points[:, 1].min():.3f}, {ideal_points[:, 1].max():.3f}]\")\n"
   ]
  },
  {
   "cell_type": "markdown",
   "id": "c0cee0c6",
   "metadata": {},
   "source": [
    "### Check Correlations"
   ]
  },
  {
   "cell_type": "code",
   "execution_count": null,
   "id": "c9da95d1",
   "metadata": {},
   "outputs": [],
   "source": [
    "\n",
    "merged_df_1 = member_info_df.join(pd.DataFrame(ideal_points, columns=['ideal_dim_1', 'ideal_dim_2']))\n",
    "# print(merged_df)\n",
    "# Calculate correlations\n",
    "corr_dim1, p_value_dim1 = pearsonr(merged_df_1['nominate_dim_1'], merged_df_1['ideal_dim_1'])\n",
    "corr_dim2, p_value_dim2 = pearsonr(merged_df_1['nominate_dim_2'], merged_df_1['ideal_dim_2'])\n",
    "\n",
    "print(\"IRT-Stan v DW Nominate Correlation:\")\n",
    "print(\"Dimension 1:\")\n",
    "print(f\"Correlation: {corr_dim1:.6f}\")\n",
    "print(f\"P-value: {p_value_dim1:.6f}\")\n",
    "\n",
    "print(\"Dimension 2:\")\n",
    "print(f\"Correlation: {corr_dim2:.6f}\")\n",
    "print(f\"P-value: {p_value_dim2:.6f}\\n\\n\")\n",
    "\n"
   ]
  },
  {
   "cell_type": "markdown",
   "id": "dd8559f7",
   "metadata": {},
   "source": [
    "### Plot IDEAL Points"
   ]
  },
  {
   "cell_type": "code",
   "execution_count": 63,
   "id": "933e9a3c",
   "metadata": {},
   "outputs": [],
   "source": [
    "cm_mapping = {\n",
    "    '-ve_caa_argument_none':        ('o', 'red'), \n",
    "    '-ve_sta_argument_none':        ('^', 'red'),\n",
    "    '-ve_caa_argument_liberal':     ('s', 'red'), \n",
    "    '-ve_sta_argument_liberal':     ('p', 'red'),\n",
    "    '-ve_caa_argument_conservative':('P', 'red'), \n",
    "    '-ve_sta_argument_conservative':('*', 'red'),\n",
    "    \n",
    "    '+ve_caa_argument_none'         :('o', 'blue'), \n",
    "    '+ve_sta_argument_none'         :('^', 'blue'),\n",
    "    '+ve_caa_argument_liberal'      :('s', 'blue'), \n",
    "    '+ve_sta_argument_liberal'      :('p', 'blue'),\n",
    "    '+ve_caa_argument_conservative' :('P', 'blue'), \n",
    "    '+ve_sta_argument_conservative ':('*', 'blue')\n",
    "}\n",
    "\n",
    "# cm_mapping = {\n",
    "#     'role_original_argument_none':              ('o', 'green'), \n",
    "#     'role_original_argument_liberal':           ('^', 'green'),\n",
    "#     'role_original_argument_conservative':      ('s', 'green'), \n",
    "    \n",
    "#     'role_liberal_argument_none':               ('o', 'blue'),\n",
    "#     'role_liberal_argument_liberal':            ('^', 'blue'), \n",
    "#     'role_liberal_argument_conservative':       ('s', 'blue'),\n",
    "    \n",
    "#     'role_conservative_argument_none':          ('o', 'red'), \n",
    "#     'role_conservative_argument_liberal':       ('^', 'red'),\n",
    "#     'role_conservative_argument_conservative':  ('s', 'red'), \n",
    "\n",
    "# }"
   ]
  },
  {
   "cell_type": "code",
   "execution_count": 65,
   "id": "9ca8d753",
   "metadata": {},
   "outputs": [
    {
     "name": "stdout",
     "output_type": "stream",
     "text": [
      "Creating plot...\n"
     ]
    },
    {
     "data": {
      "image/png": "[encoded data removed]",
      "text/plain": [
       "<Figure size 400x400 with 1 Axes>"
      ]
     },
     "metadata": {},
     "output_type": "display_data"
    }
   ],
   "source": [
    "\"\"\"\n",
    "Create the ideal points plot matching R output\n",
    "\n",
    "IRT CONNECTION: This visualizes the estimated person parameters (θ) in 2D space\n",
    "Each point represents a legislator's estimated ideological position\n",
    "\"\"\"\n",
    "print(\"Creating plot...\")\n",
    "plt.clf()\n",
    "# Set up colors\n",
    "party_colors = {'D': 'blue', 'R': 'red', 'I': 'green', 'U': 'purple'}\n",
    "colors = [party_colors[party] for party in member_info_df['party']]\n",
    "\n",
    "# Create plot\n",
    "# plt.figure(figsize=(10, 10))\n",
    "plt.rcParams.update({'font.size': 12, 'figure.figsize': (4,4)})\n",
    "\n",
    "for i, (k, v) in enumerate(cm_mapping.items()):\n",
    "    plt.scatter(ideal_points[i, 0], ideal_points[i, 1], \n",
    "                c=v[1], marker=v[0], s=100, alpha=0.5)\n",
    "\n",
    "# Scatter plot of ideal points (IRT person parameters)\n",
    "# plt.scatter(ideal_points[:, 0], ideal_points[:, 1], \n",
    "#             c=colors, s=50, alpha=0.7)\n",
    "\n",
    "# Add labels for each point\n",
    "# for i, row in member_info_df.iterrows():\n",
    "#     # Format name like R output: \"LASTNAME (PARTY STATE)\"\n",
    "#     name_parts = row['bioname'].split(', ')\n",
    "#     if len(name_parts) >= 2:\n",
    "#         lastname = name_parts[0]\n",
    "#     else:\n",
    "#         lastname = row['bioname']\n",
    "    \n",
    "#     # label = f\"{lastname} ({row['party']} {row['state_abbrev']})\"\n",
    "#     # label = f\"{lastname} ({row['party']})\"\n",
    "#     label = row['bioname']\n",
    "    \n",
    "#     plt.annotate(label, \n",
    "#                 (ideal_points[i, 0], ideal_points[i, 1]),\n",
    "#                 xytext=(5, 5), textcoords='offset points',\n",
    "#                 fontsize=12, alpha=0.8, rotation=-5, \n",
    "#                 ha='left', va='center', rotation_mode='anchor')\n",
    "\n",
    "# Formatting\n",
    "plt.xlabel('Dimension 1')  # First IRT dimension (usually liberal-conservative)\n",
    "plt.ylabel('Dimension 2')  # Second IRT dimension\n",
    "plt.title(f'{model_name.upper()} Ideal Points')\n",
    "\n",
    "# Legend\n",
    "# legend_elements = [\n",
    "#     plt.scatter([], [], c='blue', s=50, label='Democrat'),\n",
    "#     plt.scatter([], [], c='red', s=50, label='Republican'),\n",
    "#     plt.scatter([], [], c='green', s=50, label='Independent'),\n",
    "#     # plt.scatter([], [], c='purple', s=100, label='LLM')\n",
    "# ]\n",
    "legend_elements = [plt.scatter([], [], marker=v[0], c=v[1], label=k) for k, v in cm_mapping.items()]\n",
    "if \"gemma\" in model_name:\n",
    "    plt.legend(handles=legend_elements,\n",
    "            bbox_to_anchor=(1.05, 1), \n",
    "            loc='upper left')\n",
    "\n",
    "plt.grid(True, alpha=0.3)\n",
    "plt.tight_layout()\n",
    "# print(f\"Saving figure at ideal_points_llms_round_{round}.png\")\n",
    "plt.savefig(f\"ideal_points_steering_{model_name}.pdf\")\n",
    "plt.show()\n"
   ]
  },
  {
   "cell_type": "markdown",
   "id": "8901afe3",
   "metadata": {},
   "source": [
    "### Summary"
   ]
  },
  {
   "cell_type": "code",
   "execution_count": null,
   "id": "6c74970b",
   "metadata": {},
   "outputs": [],
   "source": [
    "print(\"\\nSummary by party:\")\n",
    "for party in ['D', 'R', 'I', 'U']:\n",
    "    party_mask = member_info_df['party'] == party\n",
    "    if party_mask.any():\n",
    "        party_points = ideal_points[party_mask]\n",
    "        print(f\"{party}: n={np.sum(party_mask)}, \"\n",
    "                f\"Dim1 mean={np.mean(party_points[:, 0]):.3f}, \"\n",
    "                f\"Dim2 mean={np.mean(party_points[:, 1]):.3f}\")\n",
    "\n",
    "print(\"\\nIRT-based ideal point analysis complete!\")"
   ]
  }
 ],
 "metadata": {
  "kernelspec": {
   "display_name": "base",
   "language": "python",
   "name": "python3"
  },
  "language_info": {
   "codemirror_mode": {
    "name": "ipython",
    "version": 3
   },
   "file_extension": ".py",
   "mimetype": "text/x-python",
   "name": "python",
   "nbconvert_exporter": "python",
   "pygments_lexer": "ipython3",
   "version": "3.12.2"
  }
 },
 "nbformat": 4,
 "nbformat_minor": 5
}
